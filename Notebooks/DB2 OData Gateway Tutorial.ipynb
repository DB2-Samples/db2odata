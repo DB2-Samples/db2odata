{
 "cells": [
  {
   "cell_type": "markdown",
   "metadata": {},
   "source": [
    "# DB2 OData Tutorial"
   ]
  },
  {
   "cell_type": "markdown",
   "metadata": {},
   "source": [
    "This tutorial will explain some of the features that are available in the IBM Data Server Gateway for OData Version 1.0.0. IBM Data Server Gateway for OData enables you to quickly create OData RESTful services to query and update data in IBM DB2 LUW.    \n",
    "\n",
    "An introduction to the OData gateway is found in the following developerWorks article:\n",
    "\n",
    "https://www.ibm.com/developerworks/community/blogs/96960515-2ea1-4391-8170-b0515d08e4da/entry/IBM_Data_Server_Gateway_for_OData_Version_1_0_0?lang=en\n",
    "    \n",
    "The code can be obtained through the following link:\n",
    "\n",
    "https://www-945.ibm.com/support/fixcentral/swg/selectFixes?parent=ibm~Information%2BManagement&product=ibm/Information+Management/IBM+Data+Server+Client+Packages&release=11.1.*&platform=Linux&function=fixId&fixids=*odata*FP001*&includeSupersedes=0&source=fc\n",
    "\n",
    "### OData Extensions for DB2\n",
    "In order to help explain some of the features of the OData Gateway, a Jupyter notebook has been created that includes an %odata command that maps DB2 SQL into the equivalent OData syntax. The next command will load the extension and make the command available to this tutorial."
   ]
  },
  {
   "cell_type": "code",
   "execution_count": null,
   "metadata": {},
   "outputs": [],
   "source": [
    "%run db2odata.ipynb"
   ]
  },
  {
   "cell_type": "markdown",
   "metadata": {},
   "source": [
    "### DB2 Extensions\n",
    "Since we are connecting to a DB2 database, the following command will load the DB2 Jupyter notebook extension (%sql). The DB2 extension allows you to fully interact with the DB2 database, including the ability to drop and create objects. The OData gateway provides INSERT, UPDATE, DELETE, and SELECT capability to the database, but it doesn't have the ability to create or drop actual objects. The other option would be to use DB2 directly on the database server using utilities like CLP (Command Line Processor) or DSM (Data Server Manager)."
   ]
  },
  {
   "cell_type": "code",
   "execution_count": null,
   "metadata": {},
   "outputs": [],
   "source": [
    "%run db2.ipynb"
   ]
  },
  {
   "cell_type": "markdown",
   "metadata": {},
   "source": [
    "<a id='top'></a>"
   ]
  },
  {
   "cell_type": "markdown",
   "metadata": {},
   "source": [
    "# Table of Contents\n",
    "\n",
    "* [A Brief Introduction to Odata](#intro)\n",
    "<p>\n",
    "* [DB2 and OData Connection Requirements](#connect)\n",
    "* [Connecting through OData](#connectodata)\n",
    "* [Set Command Syntax](#set)\n",
    "<p>\n",
    "* [A Quick Introduction](#quick)\n",
    "  * [Selecting Data from a Table](#sampleselect)\n",
    "  * [Displaying the OData Syntax](#viewodata)\n",
    "  * [Limiting Output Results](#limit)\n",
    "  * [Persistent Connection Information](#persistant)\n",
    "  * [Variables in OData Statements](#variables)\n",
    "  * [Retrieving URL, OData Command, and Parameters](#retrieveurl)\n",
    "  * [JSON Display in Firefox](#firefox)\n",
    "<p>\n",
    "* [SQL Command Syntax](#sqlsyntax)\n",
    "  * [SELECT Statements](#select)\n",
    "    * [Selecting Columns to Display](#columns)\n",
    "    * [FROM  Clause](#from)\n",
    "    * [Describing the Table Structure](#describe)\n",
    "    * [WHERE Clause](#where)\n",
    "    * [LIMIT Clause](#limitclause)\n",
    "  * [INSERT Statement](#insert)\n",
    "  * [DELETE Statement](#delete)\n",
    "  * [UPDATE Statement](#update)\n",
    "  * [VIEWS](#views)\n",
    "<p>\n",
    "* [Summary](#summary)"
   ]
  },
  {
   "cell_type": "markdown",
   "metadata": {},
   "source": [
    "[Back to Top](#top)\n",
    "<a id='intro'></a>"
   ]
  },
  {
   "cell_type": "markdown",
   "metadata": {},
   "source": [
    "## An Brief Introduction to OData\n",
    "Rather than paraphrase what OData does, here is the official statement from the OData home page:\n",
    "\n",
    "http://www.odata.org/\n",
    "\n",
    ">OData (Open Data Protocol) is an ISO/IEC approved, OASIS standard that defines a set of best practices for building and consuming RESTful APIs. OData helps you focus on your business logic while building RESTful APIs without having to worry about the various approaches to define request and response headers, status codes, HTTP methods, URL conventions, media types, payload formats, query options, etc. OData also provides \n",
    "guidance for tracking changes, defining functions/actions for reusable procedures, and sending asynchronous/batch requests.\n",
    "\n",
    "### Why OData for DB2?\n",
    "Customers have a wealth of data in their databases (not just DB2) and publishing it to different devices is often fraught with many challenges. DB2 requires the use of client code to communicate between the application and the database itself. Many of APIs that are used are well known: JDBC, .Net, ODBC, OLE-DB, CLI and so on. Most programming languages have some sort of connector that maps from the language syntax to the database driver. When a new language gets developed it always needs this driver code to talk to the database. For instance, this Python notebook is communicating to DB2 natively using the ibm_db package. Without some specialized coding, there would be no way to communicate with DB2.\n",
    "\n",
    "OData tries to remove much of the complexity of communicating with the database. There are no drivers required, no configuration file, nor any administration required on the client that is communicating with the database. All communication is done using RESTful API calls, which are available on all browsers and all operating systems. The calls to the database are replaced with standard POST, GET, DELETE, PUT and PATCH requests.\n",
    "\n",
    "OData goes one step further and removes the syntactical differences between SQL vendors. The INSERT, DELETE, UPDATE and SELECT statements are coverted to a canonical form that should be interpreted by all vendors. Of course, interoperability depends on how much of the standard a vendor has implemented.\n",
    "\n",
    "The end result is that an Iphone, Andriod phone, tablet, browser or any application will be able to access the database without having any code installed locally. This simplifies the ability to access the database and makes development considerably easier.\n",
    "\n",
    "The downside to this approach is that the richness of a particular SQL dialect will not be available through OData. Complex SQL with aggregation functions and moving result windows are not a good candidate to use with OData. However, OData covers much of the query spectrum that traditional applications will use, so it makes it a good choice for agile development.\n",
    "\n",
    "### OData to DB2 Extension\n",
    "Writing OData calls to DB2 requires a knowledge of the OData syntax, the RESTful calling sequence, and an understanding of the level of support of OData that DB2 provides. This tutorial will take you through all of the functions that the OData gateway currently provides and show how these calls are implemented. Feel free to use the code and extensions in your own applications."
   ]
  },
  {
   "cell_type": "markdown",
   "metadata": {},
   "source": [
    "[Back to Top](#top)\n",
    "<a id='connect'></a>"
   ]
  },
  {
   "cell_type": "markdown",
   "metadata": {},
   "source": [
    "## DB2 and OData Connection Requirements\n",
    "Both the DB2 client and OData calls need connection information. The way that you go about connecting to the database is completely different between these two protocols. Let first start with the DB2 connection.\n",
    "\n",
    "DB2 requires a userid and password to connect to a database (along with the client code that talks to DB2 over the network). Assuming you have a DB2 database somewhere, the next command will ask you for the following information:\n",
    "\n",
    " * DATABASE name - The name of the DB2 database you want to connect to\n",
    " * HOST ipaddress - The IP address (or localhost) where the DB2 instance can be found\n",
    " * PORT portno - The PORT number that DB2 is listening to (usually 50000)\n",
    " * USER userid - The user that will be connecting to DB2\n",
    " * PASSWORD pwd - The password for the USER (use a \"?\" to prompt for the value)\n",
    "\n",
    "You need to have this information available or the program won't be able to connect. For demonstration purposes, the standard SAMPLE database should be used but in the event you don't have that created, the %sql command will generate the necessary tables for you. It is also good to be a DBADM (database administrator) on the system you are connecting to. This will allow you to create the services requires by the OData gateway. If you don't, someone with that authority will be needed to give you access through OData.\n",
    "\n",
    "When the next set of commands is issued, the system will prompt you for the information required as well as give you the details for each of the fields."
   ]
  },
  {
   "cell_type": "code",
   "execution_count": null,
   "metadata": {},
   "outputs": [],
   "source": [
    "%sql connect reset\n",
    "%sql connect"
   ]
  },
  {
   "cell_type": "markdown",
   "metadata": {},
   "source": [
    "If you connected to the SAMPLE database, you will have the EMPLOYEE and DEPARTMENT tables available to you. However, if you are connecting to a different database, you will need to execute the next command to populate the tables for you. Note, if you run this command and the two tables already exist, the tables will not be replaced. So don't worry if you execute this command by mistake."
   ]
  },
  {
   "cell_type": "code",
   "execution_count": null,
   "metadata": {},
   "outputs": [],
   "source": [
    "%sql -sampledata"
   ]
  },
  {
   "cell_type": "markdown",
   "metadata": {},
   "source": [
    "Requesting data from DB2 using the standard %sql (ibm_db) interface is relatively straight-forward. We just need to place the SQL in the command and execute it to get the results."
   ]
  },
  {
   "cell_type": "code",
   "execution_count": null,
   "metadata": {},
   "outputs": [],
   "source": [
    "%sql SELECT * FROM EMPLOYEE"
   ]
  },
  {
   "cell_type": "markdown",
   "metadata": {},
   "source": [
    "Now that we have a working DB2 connection, we will need to set up an OData service to talk to DB2."
   ]
  },
  {
   "cell_type": "markdown",
   "metadata": {},
   "source": [
    "[Back to Top](#top)\n",
    "<a id='connectodata'></a>"
   ]
  },
  {
   "cell_type": "markdown",
   "metadata": {},
   "source": [
    "## Connecting through OData\n",
    "Connecting through OData requires a different approach than a DB2 client. We still need to ask a bunch of questions on how we connect to the database, but this doesn't create a connection from the client. Instead what we end up creating is a service URL. This URL gives us access to DB2 through the OData gateway server.\n",
    "\n",
    "The OData Server take the URL request and maps it to a DB2 resource, which could be one or more tables. The RESTful API needs this URL to communicate with DB2 but nothing else (userids, passwords, etc...) are sent with the request.\n",
    "\n",
    "The following %odata command will prompt you for the connection parameters, similar to what happened with the DB2 connect. There are a few differences however. The connection requires the userid and password of the user connecting to the database, and the userid and password of a user with administration (DBABM) privileges.\n",
    "\n",
    "The administrative user creates the service connection that will be used to communicate through the OData gateway and DB2. The regular userid and password is for the actual user that will connect to the database to manipulate the tables. Finally we need to have the schema (or owner) of the tables that will be accessed. From a DB2 perspective, this is similar to connecting to a DATABASE (SAMPLE) as userid FRED. The EMPLOYEE table was created under the userid DB2INST1, so to access the table we need to use DB2INST1.EMPLOYEE. If we didn't include the schema (DB2INST1), the query would fail since FRED was not the owner of the table.\n",
    "\n",
    "The %odata PROMPT command will request all of the connection parameters and explain what the various fields are. Note: If you have DBADM privileges (and you created the sample tables yourself), you can leave the USERID/PASSWORD/SCHEMA values blank and they will default to the administrative user values."
   ]
  },
  {
   "cell_type": "markdown",
   "metadata": {},
   "source": [
    "[Back to Top](#top)\n",
    "<a id='set'></a>"
   ]
  },
  {
   "cell_type": "code",
   "execution_count": null,
   "metadata": {},
   "outputs": [],
   "source": [
    "%odata register"
   ]
  },
  {
   "cell_type": "markdown",
   "metadata": {},
   "source": [
    "[Back to Top](#top)\n",
    "<a id='quick'></a>"
   ]
  },
  {
   "cell_type": "markdown",
   "metadata": {},
   "source": [
    "## A Quick Introduction\n",
    "\n",
    "The following section will give you a quick introduction to using OData with DB2. More details on syntax and examples are found later on in the notebook."
   ]
  },
  {
   "cell_type": "markdown",
   "metadata": {},
   "source": [
    "### Selecting Data from a Table\n",
    "So far all we have done is set up the connection parameters, but no actual connection has been made to DB2, nor has an OData service been created. The creation of a service is done when the first SQL request is issued. The next statement will retrieve the values from our favorite EMPLOYEE table, but use OData to accomplish it."
   ]
  },
  {
   "cell_type": "code",
   "execution_count": null,
   "metadata": {},
   "outputs": [],
   "source": [
    "%odata RESET TABLE EMPLOYEE\n",
    "s = %odata -e SELECT lastname, salary from employee where salary > 50000"
   ]
  },
  {
   "cell_type": "markdown",
   "metadata": {},
   "source": [
    "[Back to Top](#top)\n",
    "<a id='viewodata'></a>"
   ]
  },
  {
   "cell_type": "markdown",
   "metadata": {},
   "source": [
    "### Displaying the OData Syntax\n",
    "Under the covers a number of things happened when running this command. The SELECT * FROM EMPLOYEE is not what is sent to OData. The syntax is converted to something that the RESTful API understands. To view the actual OData syntax, the -e option is used to echo back the commands."
   ]
  },
  {
   "cell_type": "code",
   "execution_count": null,
   "metadata": {},
   "outputs": [],
   "source": [
    "s = %odata -e SELECT * FROM EMPLOYEE"
   ]
  },
  {
   "cell_type": "markdown",
   "metadata": {},
   "source": [
    "The results will show the URL service command used (http:// followed by details of the host location and service ID) and the OData command. In this case the command should be /EMPLOYEES. This may seem like a spelling mistake, but the OData service creates a mapping from the database table (EMPLOYEE) to a service request. To give the service request a unique name, the letter \"S\" is appended to the table name. Do not confuse the service \n",
    "name with the table name. That can sometimes lead to coding errors!\n",
    "\n",
    "If we tried to request a table that didn't exist in the database, we would get an error message instead."
   ]
  },
  {
   "cell_type": "code",
   "execution_count": null,
   "metadata": {},
   "outputs": [],
   "source": [
    "%odata select * from unknown_table"
   ]
  },
  {
   "cell_type": "markdown",
   "metadata": {},
   "source": [
    "One drawback of OData is that we don't get the actual error text returned. We know that the error code is, but the message isn't that descriptive. Using the %sql (DB2) command, we can find out that the table doesn't exist."
   ]
  },
  {
   "cell_type": "code",
   "execution_count": null,
   "metadata": {},
   "outputs": [],
   "source": [
    "%sql select * from unknown_table"
   ]
  },
  {
   "cell_type": "markdown",
   "metadata": {},
   "source": [
    "[Back to Top](#top)\n",
    "<a id='limit'></a>"
   ]
  },
  {
   "cell_type": "markdown",
   "metadata": {},
   "source": [
    "### Limiting Output Results\n",
    "The results contain 43 rows. If you want to reduce the amount of rows being returned we can use the LIMIT clause on the SELECT statement. In addition, we can use the -j flag to return the data as JSON records."
   ]
  },
  {
   "cell_type": "code",
   "execution_count": null,
   "metadata": {},
   "outputs": [],
   "source": [
    "s = %odata -e -j SELECT * FROM EMPLOYEE LIMIT 1"
   ]
  },
  {
   "cell_type": "markdown",
   "metadata": {},
   "source": [
    "To limit the results from a OData request, you must add the \\$top=x modifier at the end of the service request. The format then becomes:\n",
    "<pre>\n",
    "  \\[service url\\]/\\[service name\\]?&#36;top=value\n",
    "</pre>\n",
    "You will notice that the OData syntax requires that a \"?\" be placed after the name of the service. In our  example, EMPLOYEES is the name of the service that accesses the EMPLOYEE table. We add the ? after the end of the service name and then add the $top modifier. If there were multiple modifiers, each one must be separated with an ampersand (&) symbol. "
   ]
  },
  {
   "cell_type": "markdown",
   "metadata": {},
   "source": [
    "[Back to Top](#top)\n",
    "<a id='persistant'></a>"
   ]
  },
  {
   "cell_type": "markdown",
   "metadata": {},
   "source": [
    "### Persistent Connection Information\n",
    "What you should have received when running the previous command was a single JSON record, the service URL and the OData command. The URL will be identical to the one in the previous %odata request. There is no need to recreate a service if you are using the same table. The program created a new service when you did a SELECT for the first time. After that it keeps the service information in a file called TABLE@SCHEMA@DATABASE.pickle in the directory where the Jupyter notebook is running. If you try this statement at another time, this service URL will be retrieved from this file rather than creating another service.\n",
    "\n",
    "### Dropping a Connection\n",
    "If you want to delete the connection information, use the RESET command with the database, schema, and table name in it. This doesn't drop the object or anything associated with the table. All this does is remove the service information from your system. It also does not remove the service from the OData gateway."
   ]
  },
  {
   "cell_type": "code",
   "execution_count": null,
   "metadata": {},
   "outputs": [],
   "source": [
    "%odata \\\n",
    "  RESET \\\n",
    "    DATABASE {odata_settings['database']} \\\n",
    "    SCHEMA   {odata_settings['schema']} \\\n",
    "    TABLE    EMPLOYEE"
   ]
  },
  {
   "cell_type": "markdown",
   "metadata": {},
   "source": [
    "The last example illustrates two additional features of the %odata command. First, you can span statements over multiple lines by using the backslash character ('\\'). You could also use the %%odata command to do this without backslashes, but it unfortunately will not allow for variable substitution. The current settings being used by OData can be found by issuing the SETTINGS command.\n",
    "\n",
    "You can specify the command with only the TABLE option and it will take the current DATABASE and SCHEMA names from any prior settings."
   ]
  },
  {
   "cell_type": "code",
   "execution_count": null,
   "metadata": {},
   "outputs": [],
   "source": [
    "%odata settings"
   ]
  },
  {
   "cell_type": "markdown",
   "metadata": {},
   "source": [
    "You can also refer to these values by using the settings['name'] variable. So the DROP statement just took the current DATABASE and SCHEMA settings and deleted the definition for the EMPLOYEE table. You could have done this directly with:\n",
    "<pre>\n",
    "RESET DATABASE SAMPLE SCHEMA DB2INST1 TABLE EMPLOYEE\n",
    "</pre>\n",
    "The list of settings and their variable names are listed below.\n",
    "\n",
    "| Setting       | Variable name        \n",
    "|:--------------|:---------------------\n",
    "| DATABASE      | odata_settings['database']\n",
    "| SCHEMA        | odata_settings['schema']\n",
    "| ADMIN         | odata_settings['admin']\n",
    "| A_PWD         | odata_settings['a_pwd']\n",
    "| USER          | odata_settings['userid']\n",
    "| U_PWD         | odata_settings['u_pwd']\n",
    "| HOST          | odata_settings['host']\n",
    "| PORT          | odata_settings['port']\n",
    "| MAXROWS       | odata_settings['maxrows']"
   ]
  },
  {
   "cell_type": "markdown",
   "metadata": {},
   "source": [
    "[Back to Top](#top)\n",
    "<a id='variables'></a>"
   ]
  },
  {
   "cell_type": "markdown",
   "metadata": {},
   "source": [
    "### Variables in %OData Statements\n",
    "To use local Jupyter/Python variables in a notebook, all you need to do is place braces {} around the name of the variable. Before we illustrate this, we need to create another connection (since we just dropped it in the last example). Fortunately, none of the settings have been removed, so we still have the connection information (DATABASE, SCHEMA, ...) available. \n",
    "\n",
    "In the event you have closed the notebook and started up from scratch, there is no need to do a full connect command (or prompt). The settings are automatically written to disk and then restored when you start up another session. If you want to connect to another database then you will need to use the following SET statement. "
   ]
  },
  {
   "cell_type": "code",
   "execution_count": null,
   "metadata": {
    "collapsed": true
   },
   "outputs": [],
   "source": [
    "%odata set DATABASE {odata_settings['database']} SCHEMA {odata_settings['schema']}"
   ]
  },
  {
   "cell_type": "markdown",
   "metadata": {},
   "source": [
    "And this command will show the connection service being created for us."
   ]
  },
  {
   "cell_type": "code",
   "execution_count": null,
   "metadata": {},
   "outputs": [],
   "source": [
    "u = %odata -e select * from employee limit 1"
   ]
  },
  {
   "cell_type": "markdown",
   "metadata": {},
   "source": [
    "[Back to Top](#top)\n",
    "<a id='retrieveurl'></a>"
   ]
  },
  {
   "cell_type": "markdown",
   "metadata": {},
   "source": [
    "### Retrieving URL, OData Command, and Parameters\n",
    "The %odata command will return the URL command for a select statement as part of the command:\n",
    "<pre>\n",
    "&lt;url&gt; = %odata -e select * from employee limit 1\n",
    "</pre>\n",
    "The variable \"url\" will contain the full URL required to retrieve data from the OData service. The next command illustrates how this works. You must use the echo (-e) option to get the URL returned. Note that you cannot use this syntax with the %%odata version of the command."
   ]
  },
  {
   "cell_type": "code",
   "execution_count": null,
   "metadata": {},
   "outputs": [],
   "source": [
    "url = %odata -e select * from employee limit 1"
   ]
  },
  {
   "cell_type": "markdown",
   "metadata": {},
   "source": [
    "You can use this URL to directly access the results through a browser, or any application that can read the results returned by the OData gateway. The print statement below will display the URL as an active link. Click on that to see the results in another browser window."
   ]
  },
  {
   "cell_type": "code",
   "execution_count": null,
   "metadata": {},
   "outputs": [],
   "source": [
    "print(url)"
   ]
  },
  {
   "cell_type": "markdown",
   "metadata": {},
   "source": [
    "When a URL is generated, we need to append the \\$format=json tag at the end to tell the OData service and the browser how to handle the results. When we run OData and RESTful calls from a programming language (like Python), we are able to send information in the header which tells the API how to handle the results and parameters. All of the RESTful calls to the OData gateway use the following header information:\n",
    "<pre>\n",
    "  {\n",
    "  \"Content-Type\":\"application/json\",\n",
    "  \"Accept\":\"application/json\"\n",
    "  }\n",
    "</pre>\n",
    "<br>When we send the URL to the OData gateway, it needs to be told how to return the information. We need to append the $format=json flag at the end of our query when sending the request via a browser. Note that the ampersand must be appended to the end of the existing URL since we already have one parameter in it."
   ]
  },
  {
   "cell_type": "markdown",
   "metadata": {},
   "source": [
    "[Back to Top](#top)\n",
    "<a id='firefox'></a>"
   ]
  },
  {
   "cell_type": "markdown",
   "metadata": {},
   "source": [
    "### JSON Display in Firefox\n",
    "Depending on what version of Firefox you have, you may not get the JSON to be displayed very nicely. To use the built-in JSON formatter, issue the following commands in a separate browser window:\n",
    "<pre>\n",
    "about:config\n",
    "Search for devtools.jsonview.enabled\n",
    "</pre>\n",
    "<br>Right click on the jsonview setting and enable it. This will result in the JSON being easier to view."
   ]
  },
  {
   "cell_type": "markdown",
   "metadata": {},
   "source": [
    "[Back to Top](#top)\n",
    "<a id='sqlsyntax'></a>"
   ]
  },
  {
   "cell_type": "markdown",
   "metadata": {},
   "source": [
    "## SQL Command Syntax\n",
    "The %odata command has been designed to translate the SQL syntax for INSERT, DELETE, UPDATE, and SELECT into an equivalent OData format. There are very specific ways of requesting data from OData, so this ends up placing some limitations on what SQL you can use. This section will cover the four major SQL commands and how they can be used with OData. If you need the syntax for a particular SQL command, just enter the command name by itself on the %odata line and it will give you a brief summary of the syntax. Here is the DELETE help."
   ]
  },
  {
   "cell_type": "code",
   "execution_count": null,
   "metadata": {},
   "outputs": [],
   "source": [
    "%odata delete"
   ]
  },
  {
   "cell_type": "markdown",
   "metadata": {},
   "source": [
    "[Back to Top](#top)\n",
    "<a id='select'></a>"
   ]
  },
  {
   "cell_type": "markdown",
   "metadata": {},
   "source": [
    "## SELECT Statements\n",
    "The SELECT statement is the most complicated of the four statements that are allowed in OData. There are generally two forms that can be used when accessing a record. The first method uses the primary key of the table and it requires no arguments. Note that the examples will not show the URL that points to the OData service.\n",
    "<pre>\n",
    "/EMPLOYEES('000010')\n",
    "</pre>\n",
    "The second method is to use the \\$filter query option. \\$filter allows us to compare any column against a value. The equivalent OData statement for retrieving an individual employee is:\n",
    "<pre>\n",
    "/EMPLOYEES?$filter=EMPNO eq '000010'\n",
    "</pre>\n",
    "The generated SELECT statements will always use this format, rather than relying on a primary key. This becomes more important when we deal with Views."
   ]
  },
  {
   "cell_type": "markdown",
   "metadata": {},
   "source": [
    "### SELECT Syntax\n",
    "The SELECT command will return data from one table. There is no ability to join tables with the current implementation of OData. If you do want to join tables, you may want to create a VIEW on the DB2 system and then use that as the TABLE. This will allow for SELECT, but no INSERT/DELETE/UPDATE.\n",
    "\n",
    "You do not need to use the primary key in the WHERE clause to use this statement. By default, any results will be displayed in a table. If you want to retrieve the results as JSON records, use the -j option on the %odata command. \n",
    "<pre>\n",
    "SELECT \\[col1, col2, ... | count(\\*)\\] FROM &lt;table&gt; \\[ WHERE logic\\] \\[ LIMIT rows \\]\n",
    "</pre> \n",
    "The column list can contain as many values as you want, or just COUNT(\\*). COUNT(\\*) will return the count of rows found. If you use the -r or -j flags to display everything in JSON format, you will also get the entire answer set along with the row count. This is the behavior of using count in OData.\n",
    "\n",
    "The FROM clause must contain the name of the table you want to access. \n",
    "\n",
    "The WHERE clause is optional, as is the LIMIT clause. The WHERE clause can contain comparisons between columns and constants (EMPNO='000010'), logic (AND, OR) as well as LIKE clauses (COLUMN LIKE 'xxx'). The current version cannot use arithmetic operators (+, -, *, /) or the NOT operator.\n",
    "\n",
    "The LIMIT clause will restrict the results to \"x\" number of rows. So even if there are 500 rows that meet the answer set, only \"x\" rows will be returned to the client."
   ]
  },
  {
   "cell_type": "markdown",
   "metadata": {},
   "source": [
    "#### Example: Select statement with no logic\n",
    "The following SELECT statement will retrieve all of the data from the EMPLOYEE table."
   ]
  },
  {
   "cell_type": "code",
   "execution_count": null,
   "metadata": {},
   "outputs": [],
   "source": [
    "s = %odata -e SELECT * FROM EMPLOYEE"
   ]
  },
  {
   "cell_type": "markdown",
   "metadata": {},
   "source": [
    "You will notice that not all of the rows have been displayed. The output has been limited to 10 lines. 5 lines from the start of the answer set and 5 lines from the bottom of the answer set are displayed. If you want to change the maximum number of rows to be displayed, use the MAXROWS setting."
   ]
  },
  {
   "cell_type": "code",
   "execution_count": null,
   "metadata": {
    "collapsed": true
   },
   "outputs": [],
   "source": [
    "%odata set maxrows 10"
   ]
  },
  {
   "cell_type": "markdown",
   "metadata": {},
   "source": [
    "If you want an unlimited number of rows returned, set maxrows to -1."
   ]
  },
  {
   "cell_type": "code",
   "execution_count": null,
   "metadata": {},
   "outputs": [],
   "source": [
    "%odata set maxrows -1\n",
    "%odata select * from employee"
   ]
  },
  {
   "cell_type": "markdown",
   "metadata": {},
   "source": [
    "It is better to limit the results from the answer set by using the LIMIT clause in the SELECT statement. LIMIT will force DB2 to stop retrieving rows after \"x\" number have been read, while the MAXROWS setting will retrieve all rows and then only display a portion of them. The one advantage of MAXROWS is that you see the bottom 5 rows while you would only be able to do that with DB2 if you could reverse sort the output. The current OData implementation does not have the ability to $orderby, so sorting to reverse the output is not possible."
   ]
  },
  {
   "cell_type": "code",
   "execution_count": null,
   "metadata": {
    "collapsed": true
   },
   "outputs": [],
   "source": [
    "%odata set maxrows 10"
   ]
  },
  {
   "cell_type": "markdown",
   "metadata": {},
   "source": [
    "### Example: Select statement limiting output to 5 rows\n",
    "This SELECT statement will limit output to 5 rows. If MAXROWS was set to a smaller value, it would still read all rows before displaying them."
   ]
  },
  {
   "cell_type": "code",
   "execution_count": null,
   "metadata": {},
   "outputs": [],
   "source": [
    "s = %odata -e SELECT * FROM EMPLOYEE LIMIT 5"
   ]
  },
  {
   "cell_type": "markdown",
   "metadata": {},
   "source": [
    "[Back to Top](#top)\n",
    "<a id='columns'></a>"
   ]
  },
  {
   "cell_type": "markdown",
   "metadata": {},
   "source": [
    "## Selecting Columns to Display\n",
    "OData allows you to select which columns to display as part of the output. The $select query option requires a list of columns to be passed to it. For instance, the following SQL will only display the first name and last name of the top five employees."
   ]
  },
  {
   "cell_type": "markdown",
   "metadata": {},
   "source": [
    "### Example: Limiting the columns to display\n",
    "The column list must only include columns from the table and cannot include any calculations like SALARY+BONUS."
   ]
  },
  {
   "cell_type": "code",
   "execution_count": null,
   "metadata": {},
   "outputs": [],
   "source": [
    "s = %odata -e SELECT FIRSTNME, LASTNAME FROM EMPLOYEE LIMIT 5"
   ]
  },
  {
   "cell_type": "markdown",
   "metadata": {},
   "source": [
    "The COUNT(\\*) function is available as part of a SELECT list and it cannot include any other column names. If you do include other column names they will be ignored. "
   ]
  },
  {
   "cell_type": "code",
   "execution_count": null,
   "metadata": {},
   "outputs": [],
   "source": [
    "s = %odata -e SELECT COUNT(*) FROM EMPLOYEE LIMIT 1"
   ]
  },
  {
   "cell_type": "markdown",
   "metadata": {},
   "source": [
    "One of the unusual behaviors of the COUNT(\\*) function is that will actually return the entire answer set under the covers. The %odata command strips the count out from the results and doesn't display the rows returned. That is probably not would you expect from this syntax! The COUNT function is better described as the count of physical rows returned. Here is the same example with 5 rows returned and the JSON records."
   ]
  },
  {
   "cell_type": "code",
   "execution_count": null,
   "metadata": {},
   "outputs": [],
   "source": [
    "s = %odata -e -r SELECT COUNT(*) FROM EMPLOYEE LIMIT 5"
   ]
  },
  {
   "cell_type": "markdown",
   "metadata": {},
   "source": [
    "One of the recommendations would be not to use the COUNT(\\*) function to determine the amount of rows that will be retrieved, especially if you expect there to a large of number rows. To minimize the data returned, you can use the form COUNT(column) which will modify the OData request to return the count and ONLY that column in the result set. This is a compromise in terms of the amount of data returned. This example using the -r (raw) flag which results in all of the JSON headers and data to be displayed. The JSON flag (-j) will not display any records."
   ]
  },
  {
   "cell_type": "code",
   "execution_count": null,
   "metadata": {},
   "outputs": [],
   "source": [
    "s = %odata -e -r SELECT COUNT(EMPNO) FROM EMPLOYEE LIMIT 5"
   ]
  },
  {
   "cell_type": "markdown",
   "metadata": {},
   "source": [
    "[Back to Top](#top)\n",
    "<a id='from'></a>"
   ]
  },
  {
   "cell_type": "markdown",
   "metadata": {},
   "source": [
    "## FROM Clause\n",
    "The FROM clause is mandatory in any SELECT statement. If an OData service has already been established, there will be no service request sent to OData. Instead, the URL information stored on disk will be used to establish the connection.\n",
    "\n",
    "If a service has not been established, the %odata command will create the service and then build the OData select statement. If you want to see the command to establish the service as well as the SELECT command, use the -e flag to echo the results.\n",
    "\n",
    "If the table does not exist in the database you will receive an error message."
   ]
  },
  {
   "cell_type": "code",
   "execution_count": null,
   "metadata": {},
   "outputs": [],
   "source": [
    "%sql -q DROP TABLE UNKNOWN_TBL\n",
    "%odata RESET TABLE UNKNOWN_TBL\n",
    "s = %odata -e SELECT * FROM UNKNOWN_TBL"
   ]
  },
  {
   "cell_type": "markdown",
   "metadata": {},
   "source": [
    "This actually can cause some issues if you try to reuse the connection information that was created with the UNKNOWN_TBL. Since the service could not determine the structure of the table, the service will not return any column information with a select statement. The next SQL statement will create the UNKNOWN_TBL."
   ]
  },
  {
   "cell_type": "code",
   "execution_count": null,
   "metadata": {},
   "outputs": [],
   "source": [
    "%sql CREATE TABLE UNKNOWN_TBL AS (SELECT * FROM EMPLOYEE) WITH DATA"
   ]
  },
  {
   "cell_type": "markdown",
   "metadata": {},
   "source": [
    "Retrying the SELECT statement will result in 43 rows with no columns returned!"
   ]
  },
  {
   "cell_type": "code",
   "execution_count": null,
   "metadata": {},
   "outputs": [],
   "source": [
    "s = %odata -e SELECT * FROM UNKNOWN_TBL"
   ]
  },
  {
   "cell_type": "markdown",
   "metadata": {},
   "source": [
    "To correct this situation, you need to DROP the connect that the %odata program is using and reissue the SELECT statement."
   ]
  },
  {
   "cell_type": "code",
   "execution_count": null,
   "metadata": {},
   "outputs": [],
   "source": [
    "%odata RESET TABLE UNKNOWN_TBL"
   ]
  },
  {
   "cell_type": "markdown",
   "metadata": {},
   "source": [
    "Now you can try the SQL statement again."
   ]
  },
  {
   "cell_type": "code",
   "execution_count": null,
   "metadata": {},
   "outputs": [],
   "source": [
    "s = %odata -e SELECT * FROM UNKNOWN_TBL"
   ]
  },
  {
   "cell_type": "markdown",
   "metadata": {},
   "source": [
    "[Back to Top](#top)\n",
    "<a id='describe'></a>"
   ]
  },
  {
   "cell_type": "markdown",
   "metadata": {},
   "source": [
    "## Describing the Table Structure\n",
    "The SELECT statement needs to know what columns are going to be returned as part of the answer set. The asterix (\\*) returns all of the columns, but perhaps you only want a few of the columns. To determine what the columns are in the table along with the data types, you can use the DESCRIBE command. The following statement will show the structure of the EMPLOYEE table."
   ]
  },
  {
   "cell_type": "code",
   "execution_count": null,
   "metadata": {},
   "outputs": [],
   "source": [
    "%odata DESCRIBE EMPLOYEE"
   ]
  },
  {
   "cell_type": "markdown",
   "metadata": {},
   "source": [
    "The datatypes are not the same as what one expect from a relational database. You get generic information on the character columns (String), and the numbers (Int16, Decimal). The Decimal specification actually contains the number of digits and decimal places but that isn't returned when using the table display.\n",
    "\n",
    "| Data Type  |   Contents\n",
    "|:-----------|:---------------\n",
    "| Binary     |   Binary data\n",
    "| Boolean    |   Binary-valued logic\n",
    "| Byte       |   Unsigned  8-bit integer\n",
    "| Date       |   Date without a time-zone offset\n",
    "| Decimal    |   Numeric values with fixed precision and scale\n",
    "| Double     |   IEEE 754 binary64 floating-point number (15-17 decimal digits)\n",
    "| Duration   |   Signed duration in days, hours, minutes, and (sub)seconds\n",
    "| Guid       |   16-byte (128-bit) unique identifier\n",
    "| Int16      |   Signed 16-bit integer\n",
    "| Int32      |   Signed 32-bit integer\n",
    "| Int64      |   Signed 64-bit integer\n",
    "| SByte      |   Signed 8-bit integer\n",
    "| Single     |   IEEE 754 binary32 floating-point number (6-9 decimal digits)\n",
    "| String     |   Sequence of UTF-8 characters\n",
    "| TimeOfDay  |   Clock time 00:00-23:59:59.999999999999"
   ]
  },
  {
   "cell_type": "markdown",
   "metadata": {},
   "source": [
    "[Back to Top](#top)\n",
    "<a id='where'></a>"
   ]
  },
  {
   "cell_type": "markdown",
   "metadata": {},
   "source": [
    "## WHERE Clause\n",
    "The WHERE clause is used to filter out the rows that you want to retrieve from the table. The WHERE clause allows the following operators:\n",
    "    \n",
    "* &gt;, =&gt;, &lt;, &lt;=, =, !=, <>, LIKE\n",
    "* AND, OR\n",
    "* Parenthesis to override order () of operators\n",
    "\n",
    "The WHERE clause does not allow for mathematical operators at this time (\\*, -, +, /) or the unary NOT or \"-\" operators. \n",
    "\n",
    "The LIKE clause can contain the special % character, but the equivalent OData syntax always searches the entire string and does not anchor at the beginning of the string. What this means is that the LIKE clause will turn into a search of the entire string whether you use the % character in your search string or not."
   ]
  },
  {
   "cell_type": "markdown",
   "metadata": {},
   "source": [
    "### Example: Single comparison\n",
    "The following select statement will search for employees who have a salary less than 40000."
   ]
  },
  {
   "cell_type": "code",
   "execution_count": null,
   "metadata": {},
   "outputs": [],
   "source": [
    "s = %odata -e SELECT EMPNO, WORKDEPT, SALARY FROM EMPLOYEE WHERE SALARY < 40000"
   ]
  },
  {
   "cell_type": "markdown",
   "metadata": {},
   "source": [
    "### Example: Two comparisons in a WHERE clause \n",
    "We add an additional comparison to our SQL to check for only employees in a particular department."
   ]
  },
  {
   "cell_type": "code",
   "execution_count": null,
   "metadata": {},
   "outputs": [],
   "source": [
    "s = %odata -e SELECT EMPNO, WORKDEPT, SALARY FROM EMPLOYEE WHERE SALARY < 40000 AND WORKDEPT = 'E21'"
   ]
  },
  {
   "cell_type": "markdown",
   "metadata": {},
   "source": [
    "### Example: OR Logic in the WHERE clause\n",
    "We add some additional complexity by requesting employees who are in department E11 as well as those who make less than 40000 and work in department E21."
   ]
  },
  {
   "cell_type": "code",
   "execution_count": null,
   "metadata": {},
   "outputs": [],
   "source": [
    "s = %odata -e \\\n",
    "SELECT EMPNO, WORKDEPT, SALARY \\\n",
    "       FROM EMPLOYEE \\\n",
    "WHERE SALARY < 40000 AND WORKDEPT = 'E21' OR WORKDEPT = 'E11'"
   ]
  },
  {
   "cell_type": "markdown",
   "metadata": {},
   "source": [
    "### Example: Overriding the order of comparisons\n",
    "You can override the order of comparisons in the WHERE clause by using parenthesis. Here we are asking for employees in department E21 or E11 and have a salary less than 40000."
   ]
  },
  {
   "cell_type": "code",
   "execution_count": null,
   "metadata": {},
   "outputs": [],
   "source": [
    "s = %odata -e \\\n",
    "SELECT EMPNO, WORKDEPT, SALARY \\\n",
    "       FROM EMPLOYEE \\\n",
    "WHERE SALARY < 40000 AND (WORKDEPT = 'E21' OR WORKDEPT = 'E11')"
   ]
  },
  {
   "cell_type": "markdown",
   "metadata": {},
   "source": [
    "### Example: Using a LIKE clause\n",
    "The LIKE clause in DB2 will look for a string within a character column. Normally the LIKE statement will allow for the use of the % (wildcard) and _ (one character match) operators to look for patterns. These special characters do not exist in OData, so the %odata command will remove the % character and convert it to an equivalent OData statement. What this means is that the string search will look at the entire string for the pattern, while LIKE can be anchored to look only at the beginning of the string. This capability does not  current exist with the current OData implementation."
   ]
  },
  {
   "cell_type": "markdown",
   "metadata": {},
   "source": [
    "### Example: Search for a lastname that has 'AA' in it.\n",
    "This SQL will look for a lastname that has the string 'AA' in it. "
   ]
  },
  {
   "cell_type": "code",
   "execution_count": null,
   "metadata": {},
   "outputs": [],
   "source": [
    "s = %odata -e SELECT LASTNAME FROM EMPLOYEE WHERE LASTNAME LIKE '%AA%'"
   ]
  },
  {
   "cell_type": "markdown",
   "metadata": {},
   "source": [
    "### Example: Beginning of string search\n",
    "In SQL, you can search for a name that ends with the letters ON by using LIKE '%ON'"
   ]
  },
  {
   "cell_type": "code",
   "execution_count": null,
   "metadata": {},
   "outputs": [],
   "source": [
    "%sql SELECT LASTNAME FROM EMPLOYEE WHERE LASTNAME LIKE '%ON'"
   ]
  },
  {
   "cell_type": "markdown",
   "metadata": {},
   "source": [
    "Converting to OData will mean that the search will look across the entire string, not just the beginning."
   ]
  },
  {
   "cell_type": "code",
   "execution_count": null,
   "metadata": {},
   "outputs": [],
   "source": [
    "s = %odata -e SELECT LASTNAME FROM EMPLOYEE WHERE LASTNAME LIKE '%ON'"
   ]
  },
  {
   "cell_type": "markdown",
   "metadata": {},
   "source": [
    "[Back to Top](#top)\n",
    "<a id='limitclause'></a>"
   ]
  },
  {
   "cell_type": "markdown",
   "metadata": {},
   "source": [
    "## Limit Clause\n",
    "The LIMIT clause was discussed earlier in this notebook. LIMIT allows you to reduce the amount of rows that are returned in the answer set. The LIMIT clause is similar to FETCH FIRST x ROWS ONLY in DB2. The rows are always taken from the beginning of the answer set so there is no way to skip \"x\" rows before getting results. The facility does exist in the OData spaecification but has not been implemented in this release.\n",
    "\n",
    "The LIMIT clause also works in conjunction with the %odata command. The default number of rows that are displayed in a table (result set) is set to 10 by default. So if you have 50 rows in your answer set, the first 5 are displayed and then the last 5 with the rows inbetween are hidden from view. If you want to see the entire answer set, you need to change the MAXROWS value to -1:\n",
    "<pre>\n",
    "%odata SET MAXROWS -1\n",
    "</pre>\n",
    "This will display all rows that are returned from the answer set. However, the number of rows actually returned in the anwer set will be determined by the LIMIT clause. If you set LIMIT 5 then only five rows will be returned no matter what MAXROWS is set to. On the other hand, if you set MAXROWS to 10 and LIMIT to 20, you will get 20 rows returned but only 10 will be displayed."
   ]
  },
  {
   "cell_type": "markdown",
   "metadata": {},
   "source": [
    "### Example: Limit result to 5 rows\n",
    "This SQL will retrieve only the top 5 rows of the EMPLOYEE table."
   ]
  },
  {
   "cell_type": "code",
   "execution_count": null,
   "metadata": {},
   "outputs": [],
   "source": [
    "s = %odata -e SELECT * FROM EMPLOYEE LIMIT 5"
   ]
  },
  {
   "cell_type": "markdown",
   "metadata": {},
   "source": [
    "[Back to Top](#top)\n",
    "<a id='insert'></a>"
   ]
  },
  {
   "cell_type": "markdown",
   "metadata": {},
   "source": [
    "## INSERT Command\n",
    "OData allows you to insert data into a table through the use of the RESTful POST command and a JSON document that contains the field names and contents of those fields.\n",
    "\n",
    "The format of the INSERT command is:\n",
    "<pre>\n",
    "INSERT INTO &lt;table&gt;(col1, col2, ...) VALUES (val1, val2, ...)\n",
    "</pre>\n",
    "The TABLE must be defined before you can issue this statement. There is no requirement to have a primary key on the table, but this will prevent you from updating it with the OData interface because filtering (WHERE) is not allowed on UPDATEs or DELETEs. The column list and value list must match (i.e. there must be a value for every column name). If you do not supply the list of all columns in the table, the missing columns will have null values assigned to them. The insert will fail if any of these missing columns requires a value (NOT NULL)."
   ]
  },
  {
   "cell_type": "markdown",
   "metadata": {},
   "source": [
    "### Example: Insert into a table\n",
    "In this example we will insert a single row into a table. We start by defining the table within DB2 and then doing a DESCRIBE to get the column definitions back with OData."
   ]
  },
  {
   "cell_type": "code",
   "execution_count": null,
   "metadata": {},
   "outputs": [],
   "source": [
    "%%sql -q \n",
    "DROP TABLE TESTODATA; \n",
    "CREATE TABLE TESTODATA \n",
    "  ( \n",
    "  EMPNO INT NOT NULL, \n",
    "  LASTNAME VARCHAR(10) NOT NULL,\n",
    "  SALARY INT NOT NULL,\n",
    "  BONUS INT\n",
    "  );"
   ]
  },
  {
   "cell_type": "code",
   "execution_count": null,
   "metadata": {},
   "outputs": [],
   "source": [
    "%sql select * from testodata"
   ]
  },
  {
   "cell_type": "code",
   "execution_count": null,
   "metadata": {},
   "outputs": [],
   "source": [
    "%odata -e select * from testodata"
   ]
  },
  {
   "cell_type": "markdown",
   "metadata": {},
   "source": [
    "We also need to remove the connection information from the system in the event we've run this example before."
   ]
  },
  {
   "cell_type": "code",
   "execution_count": null,
   "metadata": {},
   "outputs": [],
   "source": [
    "%odata RESET TABLE TESTODATA"
   ]
  },
  {
   "cell_type": "markdown",
   "metadata": {},
   "source": [
    "A couple of things about the table design. The salary is NOT NULL, while the BONUS allows for nulls. Unfortunately, the DESCRIBE command only tells us about the columns in the table and their OData data type, and no indication of whether table. "
   ]
  },
  {
   "cell_type": "code",
   "execution_count": null,
   "metadata": {},
   "outputs": [],
   "source": [
    "%odata -e DESCRIBE TESTODATA"
   ]
  },
  {
   "cell_type": "markdown",
   "metadata": {},
   "source": [
    "The initial INSERT will populate the table with valid data. The echo option will show the json document that is sent via the POST command to OData to insert the row."
   ]
  },
  {
   "cell_type": "code",
   "execution_count": null,
   "metadata": {},
   "outputs": [],
   "source": [
    "%odata -e INSERT INTO TESTODATA(EMPNO, LASTNAME, SALARY, BONUS) VALUES (1,'Fred',10000,1000)"
   ]
  },
  {
   "cell_type": "markdown",
   "metadata": {},
   "source": [
    "Just to make sure things were inserted properly, we retrieve the contents of the table."
   ]
  },
  {
   "cell_type": "code",
   "execution_count": null,
   "metadata": {},
   "outputs": [],
   "source": [
    "%odata SELECT * FROM TESTODATA"
   ]
  },
  {
   "cell_type": "markdown",
   "metadata": {},
   "source": [
    "OData (and DB2) will return an error message about our missing SALARY column which requires a value."
   ]
  },
  {
   "cell_type": "code",
   "execution_count": null,
   "metadata": {},
   "outputs": [],
   "source": [
    "%odata -e INSERT INTO TESTODATA(EMPNO, LASTNAME, BONUS) VALUES (2,'Wilma',50000)"
   ]
  },
  {
   "cell_type": "markdown",
   "metadata": {},
   "source": [
    "We can try this on the DB2 side as well to get the details of the error."
   ]
  },
  {
   "cell_type": "code",
   "execution_count": null,
   "metadata": {},
   "outputs": [],
   "source": [
    "%sql INSERT INTO TESTODATA(EMPNO, LASTNAME, BONUS) VALUES (2,'Wilma',50000)"
   ]
  },
  {
   "cell_type": "markdown",
   "metadata": {},
   "source": [
    "[Back to Top](#top)\n",
    "<a id='delete'></a>"
   ]
  },
  {
   "cell_type": "markdown",
   "metadata": {},
   "source": [
    "## DELETE Command\n",
    "The DELETE command only takes one parameter and that is the key value for the record that we want to delete from the table. The format of the command is:\n",
    "<pre>\n",
    "DELETE FROM &lt;table&gt; WHERE KEY=VALUE\n",
    "</pre>\n",
    "Key refers to the column that is the primary key in the table we are deleting from. Unless you have a primary key, the DELETE command will not work."
   ]
  },
  {
   "cell_type": "code",
   "execution_count": null,
   "metadata": {},
   "outputs": [],
   "source": [
    "%odata -e DELETE FROM TESTODATA WHERE EMPNO=1"
   ]
  },
  {
   "cell_type": "markdown",
   "metadata": {},
   "source": [
    "A primary key is required to issue a DELETE command. You also need to make sure that the primary key column does not contain NULLs because a primary key must always contain a value. The following SQL tries to fix the primary key issue."
   ]
  },
  {
   "cell_type": "code",
   "execution_count": null,
   "metadata": {},
   "outputs": [],
   "source": [
    "%sql ALTER TABLE TESTODATA ADD CONSTRAINT PKTD PRIMARY KEY (EMPNO)"
   ]
  },
  {
   "cell_type": "markdown",
   "metadata": {},
   "source": [
    "Check to see if we can delete the row yet."
   ]
  },
  {
   "cell_type": "code",
   "execution_count": null,
   "metadata": {},
   "outputs": [],
   "source": [
    "%odata -e DELETE FROM TESTODATA WHERE EMPNO=1"
   ]
  },
  {
   "cell_type": "markdown",
   "metadata": {},
   "source": [
    "Adding a primary key after the fact won't help because the service URL would have already recorded the information about the table (and the fact it didn't have a primary key at the time). We need to drop our SERVICE URL and generate another one."
   ]
  },
  {
   "cell_type": "code",
   "execution_count": null,
   "metadata": {},
   "outputs": [],
   "source": [
    "%odata RESET TABLE TESTODATA"
   ]
  },
  {
   "cell_type": "markdown",
   "metadata": {},
   "source": [
    "We do a describe on the table and this will force another service URL to be generated for us."
   ]
  },
  {
   "cell_type": "code",
   "execution_count": null,
   "metadata": {},
   "outputs": [],
   "source": [
    "%odata DESCRIBE TESTODATA"
   ]
  },
  {
   "cell_type": "markdown",
   "metadata": {},
   "source": [
    "Trying the DELETE this time will work. "
   ]
  },
  {
   "cell_type": "code",
   "execution_count": null,
   "metadata": {},
   "outputs": [],
   "source": [
    "%odata -e DELETE FROM TESTODATA WHERE EMPNO=1"
   ]
  },
  {
   "cell_type": "markdown",
   "metadata": {},
   "source": [
    "Deleting the record again still gives you a successful return code. The call always returns a successful status even if the record doesn't exist."
   ]
  },
  {
   "cell_type": "code",
   "execution_count": null,
   "metadata": {},
   "outputs": [],
   "source": [
    "%odata -e DELETE FROM TESTODATA WHERE EMPNO=2"
   ]
  },
  {
   "cell_type": "markdown",
   "metadata": {},
   "source": [
    "[Back to Top](#top)\n",
    "<a id='update'></a>"
   ]
  },
  {
   "cell_type": "markdown",
   "metadata": {},
   "source": [
    "## UPDATE Command\n",
    "The update command requires both a primary key to update and the name of the field that you want changed. Note that you can only change one field at a time. There is no ability to specify multiple fields at this time.\n",
    "\n",
    "The format of the UDPATE command is:\n",
    "<pre>\n",
    "UPDATE &lt;table&gt; SET column=value WHERE key=keyvalue\n",
    "</pre>\n",
    "You must have a primary key on the table if you want an update to work. The filtering (WHERE) is allowed only to specify the primary key for the row and no filtering is allowed. The primary can be changed in the statement, but the update will fail if the key already exists in another record.\n",
    "THe other restriction is that no calculations can be done as part of the SET clause. You can only pass atomic values to the UPDATE statement."
   ]
  },
  {
   "cell_type": "markdown",
   "metadata": {},
   "source": [
    "### Example: Update a BONUS value of employee\n",
    "This SQL will update employee number 1 bonus to 2000. The first step is to put the employee back into the table."
   ]
  },
  {
   "cell_type": "code",
   "execution_count": null,
   "metadata": {},
   "outputs": [],
   "source": [
    "%odata -e \\\n",
    "INSERT INTO TESTODATA(EMPNO, LASTNAME, SALARY, BONUS) \\\n",
    "VALUES (1,'Fred',10000,1000)"
   ]
  },
  {
   "cell_type": "markdown",
   "metadata": {},
   "source": [
    "At this point we can update their salary."
   ]
  },
  {
   "cell_type": "code",
   "execution_count": null,
   "metadata": {},
   "outputs": [],
   "source": [
    "%odata -e UPDATE TESTODATA SET BONUS=2000 WHERE EMPNO=1"
   ]
  },
  {
   "cell_type": "markdown",
   "metadata": {},
   "source": [
    "We doublecheck the results to make sure we got it right!"
   ]
  },
  {
   "cell_type": "code",
   "execution_count": null,
   "metadata": {},
   "outputs": [],
   "source": [
    "%odata SELECT * FROM TESTODATA"
   ]
  },
  {
   "cell_type": "markdown",
   "metadata": {},
   "source": [
    "[Back to Top](#top)\n",
    "<a id='views'></a>"
   ]
  },
  {
   "cell_type": "markdown",
   "metadata": {},
   "source": [
    "## Views\n",
    "The OData implemented with DB2 doesn't allow for JOINS between tables. Sometimes you need to be able to look up information from another table in order to get the final result. One option you have to do this is to create a VIEW on the DB2 system.\n",
    "\n",
    "The VIEW can contain almost any type of SQL so it allows for very complex queries to be created. For instance, the following view joins the EMPLOYEE table and the DEPARTMENT table to generate a row with the employee name and the name of the department that they work for."
   ]
  },
  {
   "cell_type": "code",
   "execution_count": null,
   "metadata": {},
   "outputs": [],
   "source": [
    "%%sql\n",
    "CREATE OR REPLACE VIEW EMPDEPT AS \n",
    "  (\n",
    "  SELECT LASTNAME, DEPTNAME \n",
    "  FROM EMPLOYEE E, DEPARTMENT D\n",
    "  WHERE E.WORKDEPT = D.DEPTNO\n",
    "  )"
   ]
  },
  {
   "cell_type": "markdown",
   "metadata": {},
   "source": [
    "We also need to drop any service connection you may have created in the past with this table name."
   ]
  },
  {
   "cell_type": "code",
   "execution_count": null,
   "metadata": {},
   "outputs": [],
   "source": [
    "%odata RESET TABLE EMPDEPT"
   ]
  },
  {
   "cell_type": "markdown",
   "metadata": {},
   "source": [
    "Now that we have created the view, we can retrieve rows from it just like a standard table."
   ]
  },
  {
   "cell_type": "code",
   "execution_count": null,
   "metadata": {},
   "outputs": [],
   "source": [
    "%odata SELECT LASTNAME, DEPTNAME FROM EMPDEPT LIMIT 5"
   ]
  },
  {
   "cell_type": "markdown",
   "metadata": {},
   "source": [
    "You can also create sophisticated VIEWS that can take parameters to adjust the results returned. For instance, consider the following SQL statement which gives me count of employees that work in SYSTEMS departments. "
   ]
  },
  {
   "cell_type": "code",
   "execution_count": null,
   "metadata": {},
   "outputs": [],
   "source": [
    "%%sql\n",
    "SELECT \n",
    "  COUNT(*)\n",
    "FROM \n",
    "  EMPLOYEE E, DEPARTMENT D\n",
    "WHERE \n",
    "  E.WORKDEPT = D.DEPTNO\n",
    "  AND D.DEPTNAME LIKE '%SYSTEMS%'"
   ]
  },
  {
   "cell_type": "markdown",
   "metadata": {},
   "source": [
    "There are two departments with the name SYSTEMS in them, but there is no easy way to create a view for every possible combination of searches that you may want. Instead what we do is create a table that contains the pattern we want to look for and create the view so that it references this table.\n",
    "\n",
    "The first step is to create our PATTERN table. Note we make sure it has a primary key so our OData update calls can change it!"
   ]
  },
  {
   "cell_type": "code",
   "execution_count": null,
   "metadata": {},
   "outputs": [],
   "source": [
    "%%sql -q\n",
    "DROP TABLE PATTERN;\n",
    "CREATE TABLE PATTERN\n",
    "  (\n",
    "  PATTERN_NUMBER INT NOT NULL PRIMARY KEY,\n",
    "  SEARCH VARCHAR(16)\n",
    "  );"
   ]
  },
  {
   "cell_type": "markdown",
   "metadata": {},
   "source": [
    "Now we create a view that access this PATTERN table to do the actual search. Note that values that are inserted into the PATTERN table must have the SQL special characters like % to make sure patterns can be anywhere in the string."
   ]
  },
  {
   "cell_type": "code",
   "execution_count": null,
   "metadata": {},
   "outputs": [],
   "source": [
    "%odata RESET TABLE EMPDEPT\n",
    "%odata RESET TABLE PATTERN"
   ]
  },
  {
   "cell_type": "code",
   "execution_count": null,
   "metadata": {},
   "outputs": [],
   "source": [
    "%%sql\n",
    "CREATE OR REPLACE VIEW EMPDEPT AS \n",
    "  (\n",
    "  SELECT \n",
    "    COUNT(*) AS COUNT\n",
    "  FROM \n",
    "    EMPLOYEE E, DEPARTMENT D\n",
    "  WHERE \n",
    "    E.WORKDEPT = D.DEPTNO\n",
    "    AND D.DEPTNAME LIKE\n",
    "        (\n",
    "        SELECT SEARCH FROM PATTERN WHERE PATTERN_NUMBER=1\n",
    "        )\n",
    "  );"
   ]
  },
  {
   "cell_type": "markdown",
   "metadata": {},
   "source": [
    "In order for our view to work properly, we must populate our PATTERN table with a value. To test the view we will use %SYSTEMS% as our first example."
   ]
  },
  {
   "cell_type": "code",
   "execution_count": null,
   "metadata": {},
   "outputs": [],
   "source": [
    "%sql INSERT INTO PATTERN VALUES(1,'%SYSTEMS%')"
   ]
  },
  {
   "cell_type": "markdown",
   "metadata": {},
   "source": [
    "And now we can test our view by selecting from it."
   ]
  },
  {
   "cell_type": "code",
   "execution_count": null,
   "metadata": {},
   "outputs": [],
   "source": [
    "%sql SELECT * FROM EMPDEPT"
   ]
  },
  {
   "cell_type": "markdown",
   "metadata": {},
   "source": [
    "Now that we have it working, we can try exactly the same thing but with OData. Our first transaction will update the search key to SERVICE."
   ]
  },
  {
   "cell_type": "code",
   "execution_count": null,
   "metadata": {},
   "outputs": [],
   "source": [
    "%odata UPDATE PATTERN SET SEARCH = '%SERVICE%' WHERE PATTERN_NUMBER = 1"
   ]
  },
  {
   "cell_type": "markdown",
   "metadata": {},
   "source": [
    "The next OData statement should select the count of employees working in service departments."
   ]
  },
  {
   "cell_type": "code",
   "execution_count": null,
   "metadata": {},
   "outputs": [],
   "source": [
    "%odata SELECT * FROM EMPDEPT"
   ]
  },
  {
   "cell_type": "markdown",
   "metadata": {},
   "source": [
    "[Back to Top](#top)\n",
    "<a id='summary'></a>"
   ]
  },
  {
   "cell_type": "markdown",
   "metadata": {
    "collapsed": true
   },
   "source": [
    "## Summary\n",
    "The OData DB2 gateway removes much of the complexity of communicating with the database. There are no drivers required, no configuration file, nor any administration required on the client that is communicating with the database. All communication is done using RESTful API calls, which are available on all browsers and all operating systems. The calls to the database are replaced with standard POST, GET, DELETE, PUT and PATCH requests. Enabling OData support to DB2 opens up the type of applications that you can write and clients that you can connect to DB2 with."
   ]
  },
  {
   "cell_type": "markdown",
   "metadata": {},
   "source": [
    "#### Credits: IBM 2017, George Baklarz [baklarz@ca.ibm.com]"
   ]
  }
 ],
 "metadata": {
  "kernelspec": {
   "display_name": "Python 3",
   "language": "python",
   "name": "python3"
  },
  "language_info": {
   "codemirror_mode": {
    "name": "ipython",
    "version": 3
   },
   "file_extension": ".py",
   "mimetype": "text/x-python",
   "name": "python",
   "nbconvert_exporter": "python",
   "pygments_lexer": "ipython3",
   "version": "3.6.1"
  }
 },
 "nbformat": 4,
 "nbformat_minor": 2
}
